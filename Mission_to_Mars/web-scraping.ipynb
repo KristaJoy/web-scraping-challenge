{
 "cells": [
  {
   "cell_type": "code",
   "execution_count": 117,
   "id": "2d3e11d4",
   "metadata": {},
   "outputs": [],
   "source": [
    "from bs4 import BeautifulSoup\n",
    "import requests\n",
    "from webdriver_manager.chrome import ChromeDriverManager\n",
    "from splinter import Browser\n",
    "import pandas as pd\n",
    "import time"
   ]
  },
  {
   "cell_type": "markdown",
   "id": "4c521da4",
   "metadata": {},
   "source": [
    "## NASA Mars News"
   ]
  },
  {
   "cell_type": "code",
   "execution_count": 2,
   "id": "93c16016",
   "metadata": {},
   "outputs": [
    {
     "name": "stderr",
     "output_type": "stream",
     "text": [
      "\n",
      "\n",
      "====== WebDriver manager ======\n",
      "Current google-chrome version is 91.0.4472\n",
      "Get LATEST driver version for 91.0.4472\n",
      "Get LATEST driver version for 91.0.4472\n",
      "Trying to download new driver from https://chromedriver.storage.googleapis.com/91.0.4472.19/chromedriver_mac64.zip\n",
      "Driver has been saved in cache [/Users/kristajoyjohnson/.wdm/drivers/chromedriver/mac64/91.0.4472.19]\n"
     ]
    }
   ],
   "source": [
    "# Setup Splinter\n",
    "executable_path = {'executable_path': ChromeDriverManager().install()}\n",
    "browser = Browser('chrome', **executable_path, headless=False)"
   ]
  },
  {
   "cell_type": "code",
   "execution_count": 3,
   "id": "41047e9b",
   "metadata": {},
   "outputs": [],
   "source": [
    "# Connect to the website\n",
    "url = 'https://redplanetscience.com/'\n",
    "browser.visit(url)"
   ]
  },
  {
   "cell_type": "code",
   "execution_count": 6,
   "id": "fc189714",
   "metadata": {},
   "outputs": [],
   "source": [
    "# Use BeautifulSoup to parse html\n",
    "html = browser.html\n",
    "soup = BeautifulSoup(html, 'html.parser')"
   ]
  },
  {
   "cell_type": "code",
   "execution_count": 44,
   "id": "cf890258",
   "metadata": {},
   "outputs": [],
   "source": [
    "# Create lists of looped through results\n",
    "news_title = [] \n",
    "news_p = [] \n",
    "\n",
    "results = soup.find_all('div', class_='row')\n",
    "\n",
    "for result in results:\n",
    "    try:\n",
    "        # Identify title\n",
    "        title = result.find('div', class_='content_title')\n",
    "        # Identify paragraph description\n",
    "        para = result.find('div', class_='article_teaser_body')\n",
    "        \n",
    "\n",
    "        # Create list\n",
    "        if (title and para):\n",
    "            news_title.append(title.text)\n",
    "            news_p.append(para.text)\n",
    "            \n",
    "    except AttributeError as e:\n",
    "        print(e)"
   ]
  },
  {
   "cell_type": "code",
   "execution_count": 46,
   "id": "2d587123",
   "metadata": {},
   "outputs": [],
   "source": [
    "# Disconnect from website\n",
    "browser.quit()"
   ]
  },
  {
   "cell_type": "code",
   "execution_count": 47,
   "id": "a863ec74",
   "metadata": {},
   "outputs": [],
   "source": [
    "# Remove duplicate entries due to running the function twice before it worked!\n",
    "news_title.remove('My Culture, My Voice')\n",
    "news_p.remove('In honor of Hispanic Heritage Month, Christina Hernandez, an instrument engineer on the Mars 2020 mission, talks about her childhood and journey to NASA.')"
   ]
  },
  {
   "cell_type": "code",
   "execution_count": 48,
   "id": "cdc0c522",
   "metadata": {},
   "outputs": [
    {
     "name": "stdout",
     "output_type": "stream",
     "text": [
      "['My Culture, My Voice', \"Follow NASA's Perseverance Rover in Real Time on Its Way to Mars\", \"Deadline Closing for Names to Fly on NASA's Next Mars Rover\", 'MOXIE Could Help Future Rockets Launch Off Mars', \"Mars InSight Lander to Push on Top of the 'Mole'\", \"NASA's Curiosity Rover Finds an Ancient Oasis on Mars\", 'New Selfie Shows Curiosity, the Mars Chemist', \"NASA's Perseverance Rover Attached to Atlas V Rocket\", 'NASA, ULA Launch Mars 2020 Perseverance Rover Mission to Red Planet', 'NASA Adds Return Sample Scientists to Mars 2020 Leadership Team', \"NASA's Mars Helicopter Attached to Mars 2020 Rover \", \"Nine Finalists Chosen in NASA's Mars 2020 Rover Naming Contest\", \"Air Deliveries Bring NASA's Perseverance Mars Rover Closer to Launch\", \"NASA's Perseverance Rover Will Carry First Spacesuit Materials to Mars\", \"Curiosity Mars Rover's Summer Road Trip Has Begun\"] ['In honor of Hispanic Heritage Month, Christina Hernandez, an instrument engineer on the Mars 2020 mission, talks about her childhood and journey to NASA.', \"A crisply rendered web application can show you where the agency's Mars 2020 mission is right now as it makes its way to the Red Planet for a Feb. 18, 2021, landing.\", 'You have until Sept. 30 to send your names to Mars aboard the Mars 2020 rover. ', \"NASA's Perseverance rover carries a device to convert Martian air into oxygen that, if produced on a larger scale, could be used not just for breathing, but also for fuel.\", 'Engineers have a plan for pushing down on the heat probe, which has been stuck at the Martian surface for a year.', \"New evidence suggests salty, shallow ponds once dotted a Martian crater — a sign of the planet's drying climate.\", 'The NASA rover performed a special chemistry experiment at the location captured in its newest self-portrait.', 'Ready for its launch later in the month, the Mars-bound rover will touch terra firma no more.', \"The agency's Mars 2020 mission is on its way. It will land at Jezero Crater in about seven months, on Feb. 18, 2021. \", 'The leadership council for Mars 2020 science added two new members who represent the interests of scientists destined to handle and study the first samples from Red Planet.', 'The helicopter will be first aircraft to perform flight tests on another planet.', \"Nine finalists have been chosen in the essay contest for K-12 students across U.S. to name NASA's next Mars rover. Now you can help by voting for your favorite. \", \"A NASA Wallops Flight Facility cargo plane transported more than two tons of equipment — including the rover's sample collection tubes — to Florida for this summer's liftoff.\", 'In a Q&A, spacesuit designer Amy Ross explains how five samples, including a piece of helmet visor, will be tested aboard the rover, which is targeting a July 30 launch. ', 'After more than a year in the \"clay-bearing unit,\" Curiosity is making a mile-long journey around some deep sand so that it can explore higher up Mount Sharp.']\n"
     ]
    }
   ],
   "source": [
    "# Lists are complete\n",
    "print(news_title, news_p)"
   ]
  },
  {
   "cell_type": "markdown",
   "id": "9d68106a",
   "metadata": {},
   "source": [
    "## JPL Mars Space Images - Featured Image"
   ]
  },
  {
   "cell_type": "code",
   "execution_count": 65,
   "id": "16431ec5",
   "metadata": {},
   "outputs": [
    {
     "name": "stderr",
     "output_type": "stream",
     "text": [
      "\n",
      "\n",
      "====== WebDriver manager ======\n",
      "Current google-chrome version is 91.0.4472\n",
      "Get LATEST driver version for 91.0.4472\n",
      "Driver [/Users/kristajoyjohnson/.wdm/drivers/chromedriver/mac64/91.0.4472.19/chromedriver] found in cache\n"
     ]
    }
   ],
   "source": [
    "# Setup Splinter\n",
    "executable_path = {'executable_path': ChromeDriverManager().install()}\n",
    "browser = Browser('chrome', **executable_path, headless=False)"
   ]
  },
  {
   "cell_type": "code",
   "execution_count": 66,
   "id": "aeed16f9",
   "metadata": {},
   "outputs": [],
   "source": [
    "# Connect to the website\n",
    "url = 'https://spaceimages-mars.com/'\n",
    "browser.visit(url)"
   ]
  },
  {
   "cell_type": "code",
   "execution_count": 67,
   "id": "891b86c1",
   "metadata": {},
   "outputs": [],
   "source": [
    "# Use BeautifulSoup to parse html\n",
    "html = browser.html\n",
    "soup = BeautifulSoup(html, 'html.parser')"
   ]
  },
  {
   "cell_type": "code",
   "execution_count": 73,
   "id": "1120b83a",
   "metadata": {},
   "outputs": [],
   "source": [
    "for x in range(1):\n",
    "\n",
    "    html = browser.html\n",
    "    soup = BeautifulSoup(html, 'html.parser')\n",
    "\n",
    "    header = soup.find('div', class_='header')\n",
    "    target = header.find('a', class_='fancybox-thumbs')\n",
    "    href = target['href']\n",
    "    featured_image_url = ('https://spaceimages-mars.com/' + href)"
   ]
  },
  {
   "cell_type": "code",
   "execution_count": 76,
   "id": "4e18d5b2",
   "metadata": {},
   "outputs": [
    {
     "name": "stdout",
     "output_type": "stream",
     "text": [
      "https://spaceimages-mars.com/image/featured/mars2.jpg\n"
     ]
    }
   ],
   "source": [
    "print(featured_image_url)"
   ]
  },
  {
   "cell_type": "code",
   "execution_count": 75,
   "id": "76df134d",
   "metadata": {},
   "outputs": [],
   "source": [
    "# Disconnect from website\n",
    "browser.quit()"
   ]
  },
  {
   "cell_type": "markdown",
   "id": "fca529c1",
   "metadata": {},
   "source": [
    "## Mars Facts"
   ]
  },
  {
   "cell_type": "code",
   "execution_count": 79,
   "id": "b2ad2974",
   "metadata": {},
   "outputs": [],
   "source": [
    "# Website location\n",
    "url = 'https://galaxyfacts-mars.com/'"
   ]
  },
  {
   "cell_type": "code",
   "execution_count": 98,
   "id": "a9bfc692",
   "metadata": {},
   "outputs": [
    {
     "data": {
      "text/html": [
       "<div>\n",
       "<style scoped>\n",
       "    .dataframe tbody tr th:only-of-type {\n",
       "        vertical-align: middle;\n",
       "    }\n",
       "\n",
       "    .dataframe tbody tr th {\n",
       "        vertical-align: top;\n",
       "    }\n",
       "\n",
       "    .dataframe thead th {\n",
       "        text-align: right;\n",
       "    }\n",
       "</style>\n",
       "<table border=\"1\" class=\"dataframe\">\n",
       "  <thead>\n",
       "    <tr style=\"text-align: right;\">\n",
       "      <th></th>\n",
       "      <th>0</th>\n",
       "      <th>1</th>\n",
       "    </tr>\n",
       "  </thead>\n",
       "  <tbody>\n",
       "    <tr>\n",
       "      <th>0</th>\n",
       "      <td>Equatorial Diameter:</td>\n",
       "      <td>6,792 km</td>\n",
       "    </tr>\n",
       "    <tr>\n",
       "      <th>1</th>\n",
       "      <td>Polar Diameter:</td>\n",
       "      <td>6,752 km</td>\n",
       "    </tr>\n",
       "    <tr>\n",
       "      <th>2</th>\n",
       "      <td>Mass:</td>\n",
       "      <td>6.39 × 10^23 kg (0.11 Earths)</td>\n",
       "    </tr>\n",
       "    <tr>\n",
       "      <th>3</th>\n",
       "      <td>Moons:</td>\n",
       "      <td>2 ( Phobos &amp; Deimos )</td>\n",
       "    </tr>\n",
       "    <tr>\n",
       "      <th>4</th>\n",
       "      <td>Orbit Distance:</td>\n",
       "      <td>227,943,824 km (1.38 AU)</td>\n",
       "    </tr>\n",
       "    <tr>\n",
       "      <th>5</th>\n",
       "      <td>Orbit Period:</td>\n",
       "      <td>687 days (1.9 years)</td>\n",
       "    </tr>\n",
       "    <tr>\n",
       "      <th>6</th>\n",
       "      <td>Surface Temperature:</td>\n",
       "      <td>-87 to -5 °C</td>\n",
       "    </tr>\n",
       "    <tr>\n",
       "      <th>7</th>\n",
       "      <td>First Record:</td>\n",
       "      <td>2nd millennium BC</td>\n",
       "    </tr>\n",
       "    <tr>\n",
       "      <th>8</th>\n",
       "      <td>Recorded By:</td>\n",
       "      <td>Egyptian astronomers</td>\n",
       "    </tr>\n",
       "  </tbody>\n",
       "</table>\n",
       "</div>"
      ],
      "text/plain": [
       "                      0                              1\n",
       "0  Equatorial Diameter:                       6,792 km\n",
       "1       Polar Diameter:                       6,752 km\n",
       "2                 Mass:  6.39 × 10^23 kg (0.11 Earths)\n",
       "3                Moons:          2 ( Phobos & Deimos )\n",
       "4       Orbit Distance:       227,943,824 km (1.38 AU)\n",
       "5         Orbit Period:           687 days (1.9 years)\n",
       "6  Surface Temperature:                   -87 to -5 °C\n",
       "7         First Record:              2nd millennium BC\n",
       "8          Recorded By:           Egyptian astronomers"
      ]
     },
     "execution_count": 98,
     "metadata": {},
     "output_type": "execute_result"
    }
   ],
   "source": [
    "# Use pandas to find a table on website\n",
    "tables = pd.read_html(url)\n",
    "mars_df = tables[1]\n",
    "mars_df"
   ]
  },
  {
   "cell_type": "code",
   "execution_count": 99,
   "id": "a039d751",
   "metadata": {},
   "outputs": [],
   "source": [
    "# Clean up dataframe\n",
    "mars_df.set_index(0, inplace=True)\n",
    "mars_df.columns = ['Mars Planet Profile']\n",
    "mars_df.index.names = ['']"
   ]
  },
  {
   "cell_type": "code",
   "execution_count": 100,
   "id": "829a9028",
   "metadata": {},
   "outputs": [
    {
     "data": {
      "text/html": [
       "<div>\n",
       "<style scoped>\n",
       "    .dataframe tbody tr th:only-of-type {\n",
       "        vertical-align: middle;\n",
       "    }\n",
       "\n",
       "    .dataframe tbody tr th {\n",
       "        vertical-align: top;\n",
       "    }\n",
       "\n",
       "    .dataframe thead th {\n",
       "        text-align: right;\n",
       "    }\n",
       "</style>\n",
       "<table border=\"1\" class=\"dataframe\">\n",
       "  <thead>\n",
       "    <tr style=\"text-align: right;\">\n",
       "      <th></th>\n",
       "      <th>Mars Planet Profile</th>\n",
       "    </tr>\n",
       "    <tr>\n",
       "      <th></th>\n",
       "      <th></th>\n",
       "    </tr>\n",
       "  </thead>\n",
       "  <tbody>\n",
       "    <tr>\n",
       "      <th>Equatorial Diameter:</th>\n",
       "      <td>6,792 km</td>\n",
       "    </tr>\n",
       "    <tr>\n",
       "      <th>Polar Diameter:</th>\n",
       "      <td>6,752 km</td>\n",
       "    </tr>\n",
       "    <tr>\n",
       "      <th>Mass:</th>\n",
       "      <td>6.39 × 10^23 kg (0.11 Earths)</td>\n",
       "    </tr>\n",
       "    <tr>\n",
       "      <th>Moons:</th>\n",
       "      <td>2 ( Phobos &amp; Deimos )</td>\n",
       "    </tr>\n",
       "    <tr>\n",
       "      <th>Orbit Distance:</th>\n",
       "      <td>227,943,824 km (1.38 AU)</td>\n",
       "    </tr>\n",
       "    <tr>\n",
       "      <th>Orbit Period:</th>\n",
       "      <td>687 days (1.9 years)</td>\n",
       "    </tr>\n",
       "    <tr>\n",
       "      <th>Surface Temperature:</th>\n",
       "      <td>-87 to -5 °C</td>\n",
       "    </tr>\n",
       "    <tr>\n",
       "      <th>First Record:</th>\n",
       "      <td>2nd millennium BC</td>\n",
       "    </tr>\n",
       "    <tr>\n",
       "      <th>Recorded By:</th>\n",
       "      <td>Egyptian astronomers</td>\n",
       "    </tr>\n",
       "  </tbody>\n",
       "</table>\n",
       "</div>"
      ],
      "text/plain": [
       "                                Mars Planet Profile\n",
       "                                                   \n",
       "Equatorial Diameter:                       6,792 km\n",
       "Polar Diameter:                            6,752 km\n",
       "Mass:                 6.39 × 10^23 kg (0.11 Earths)\n",
       "Moons:                        2 ( Phobos & Deimos )\n",
       "Orbit Distance:            227,943,824 km (1.38 AU)\n",
       "Orbit Period:                  687 days (1.9 years)\n",
       "Surface Temperature:                   -87 to -5 °C\n",
       "First Record:                     2nd millennium BC\n",
       "Recorded By:                   Egyptian astronomers"
      ]
     },
     "execution_count": 100,
     "metadata": {},
     "output_type": "execute_result"
    }
   ],
   "source": [
    "# Preview final dataframe\n",
    "mars_df"
   ]
  },
  {
   "cell_type": "code",
   "execution_count": 101,
   "id": "f79c8eef",
   "metadata": {},
   "outputs": [],
   "source": [
    "# Export to html\n",
    "mars_df.to_html('table.html')"
   ]
  },
  {
   "cell_type": "markdown",
   "id": "3d48a621",
   "metadata": {},
   "source": [
    "## Mars Hemispheres"
   ]
  },
  {
   "cell_type": "code",
   "execution_count": 130,
   "id": "16f50758",
   "metadata": {},
   "outputs": [
    {
     "name": "stderr",
     "output_type": "stream",
     "text": [
      "\n",
      "\n",
      "====== WebDriver manager ======\n",
      "Current google-chrome version is 91.0.4472\n",
      "Get LATEST driver version for 91.0.4472\n",
      "Driver [/Users/kristajoyjohnson/.wdm/drivers/chromedriver/mac64/91.0.4472.101/chromedriver] found in cache\n"
     ]
    }
   ],
   "source": [
    "# Setup Splinter\n",
    "executable_path = {'executable_path': ChromeDriverManager().install()}\n",
    "browser = Browser('chrome', **executable_path, headless=False)"
   ]
  },
  {
   "cell_type": "code",
   "execution_count": 131,
   "id": "80d2390e",
   "metadata": {},
   "outputs": [],
   "source": [
    "# Connect to the website\n",
    "url = 'https://marshemispheres.com/'\n",
    "browser.visit(url)"
   ]
  },
  {
   "cell_type": "code",
   "execution_count": 141,
   "id": "e340d6bb",
   "metadata": {},
   "outputs": [],
   "source": [
    "html = browser.html\n",
    "soup = BeautifulSoup(html, 'html.parser')\n",
    "\n",
    "results = soup.find_all('div', class_='item')\n",
    "page_links = []\n",
    "\n",
    "for result in results:\n",
    "    link = result.find('a')['href']\n",
    "    page_links.append(f'{url}'+ link)\n",
    "\n",
    "hemisphere_image_urls = {}\n",
    "\n",
    "for link in page_links:\n",
    "    browser.visit(link)\n",
    "    html = browser.html\n",
    "    soup = BeautifulSoup(html, 'html.parser')\n",
    "    title = soup.find('h2', class_='title').text\n",
    "    if 'title' in hemisphere_image_urls:\n",
    "        hemisphere_image_urls['title'].append(title)\n",
    "    else:\n",
    "        hemisphere_image_urls['title'] = [title]\n",
    "    desc = soup.find('div', class_='description')\n",
    "    img_loc = desc.a['href']\n",
    "    img_path = (f'{url}{img_loc}')\n",
    "    if 'img_url' in hemisphere_image_urls:\n",
    "        hemisphere_image_urls['img_url'].append(img_path)\n",
    "    else:\n",
    "        hemisphere_image_urls['img_url'] = [img_path]"
   ]
  },
  {
   "cell_type": "code",
   "execution_count": 142,
   "id": "85cf9d05",
   "metadata": {},
   "outputs": [
    {
     "name": "stdout",
     "output_type": "stream",
     "text": [
      "{'title': ['Cerberus Hemisphere Enhanced', 'Schiaparelli Hemisphere Enhanced', 'Syrtis Major Hemisphere Enhanced', 'Valles Marineris Hemisphere Enhanced'], 'img_url': ['https://marshemispheres.com/images/cerberus_enhanced.tif', 'https://marshemispheres.com/images/schiaparelli_enhanced.tif', 'https://marshemispheres.com/images/syrtis_major_enhanced.tif', 'https://marshemispheres.com/images/valles_marineris_enhanced.tif']}\n"
     ]
    }
   ],
   "source": [
    "print(hemisphere_image_urls)"
   ]
  },
  {
   "cell_type": "code",
   "execution_count": 143,
   "id": "a79cd6e0",
   "metadata": {},
   "outputs": [],
   "source": [
    "# Disconnect from website\n",
    "browser.quit()"
   ]
  }
 ],
 "metadata": {
  "kernelspec": {
   "display_name": "Python [conda env:TestEnv] *",
   "language": "python",
   "name": "conda-env-TestEnv-py"
  },
  "language_info": {
   "codemirror_mode": {
    "name": "ipython",
    "version": 3
   },
   "file_extension": ".py",
   "mimetype": "text/x-python",
   "name": "python",
   "nbconvert_exporter": "python",
   "pygments_lexer": "ipython3",
   "version": "3.6.10"
  }
 },
 "nbformat": 4,
 "nbformat_minor": 5
}
