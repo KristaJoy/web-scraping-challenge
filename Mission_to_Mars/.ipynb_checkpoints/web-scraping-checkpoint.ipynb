{
 "cells": [
  {
   "cell_type": "code",
   "execution_count": 1,
   "id": "2d3e11d4",
   "metadata": {},
   "outputs": [],
   "source": [
    "from bs4 import BeautifulSoup\n",
    "import requests\n",
    "from webdriver_manager.chrome import ChromeDriverManager\n",
    "from splinter import Browser"
   ]
  },
  {
   "cell_type": "markdown",
   "id": "8d7f9854",
   "metadata": {},
   "source": [
    "## NASA Mars News"
   ]
  },
  {
   "cell_type": "code",
   "execution_count": 2,
   "id": "ee166100",
   "metadata": {},
   "outputs": [
    {
     "name": "stderr",
     "output_type": "stream",
     "text": [
      "\n",
      "\n",
      "====== WebDriver manager ======\n",
      "Current google-chrome version is 91.0.4472\n",
      "Get LATEST driver version for 91.0.4472\n",
      "Get LATEST driver version for 91.0.4472\n",
      "Trying to download new driver from https://chromedriver.storage.googleapis.com/91.0.4472.19/chromedriver_mac64.zip\n",
      "Driver has been saved in cache [/Users/kristajoyjohnson/.wdm/drivers/chromedriver/mac64/91.0.4472.19]\n"
     ]
    }
   ],
   "source": [
    "# Setup Splinter\n",
    "executable_path = {'executable_path': ChromeDriverManager().install()}\n",
    "browser = Browser('chrome', **executable_path, headless=False)"
   ]
  },
  {
   "cell_type": "code",
   "execution_count": 3,
   "id": "41047e9b",
   "metadata": {},
   "outputs": [],
   "source": [
    "# Connect to the website\n",
    "url = 'https://redplanetscience.com/'\n",
    "browser.visit(url)"
   ]
  },
  {
   "cell_type": "code",
   "execution_count": 6,
   "id": "783b60d9",
   "metadata": {},
   "outputs": [],
   "source": [
    "# Use BeautifulSoup to parse html\n",
    "html = browser.html\n",
    "soup = BeautifulSoup(html, 'html.parser')"
   ]
  },
  {
   "cell_type": "code",
   "execution_count": 44,
   "id": "cf890258",
   "metadata": {},
   "outputs": [],
   "source": [
    "# Create lists of looped through results\n",
    "news_title = [] \n",
    "news_p = [] \n",
    "\n",
    "results = soup.find_all('div', class_='row')\n",
    "\n",
    "for result in results:\n",
    "    try:\n",
    "        # Identify title\n",
    "        title = result.find('div', class_='content_title')\n",
    "        # Identify paragraph description\n",
    "        para = result.find('div', class_='article_teaser_body')\n",
    "        \n",
    "\n",
    "        # Create list\n",
    "        if (title and para):\n",
    "            news_title.append(title.text)\n",
    "            news_p.append(para.text)\n",
    "            \n",
    "    except AttributeError as e:\n",
    "        print(e)"
   ]
  },
  {
   "cell_type": "code",
   "execution_count": 46,
   "id": "2d587123",
   "metadata": {},
   "outputs": [],
   "source": [
    "# Disconnect from website\n",
    "browser.quit()"
   ]
  },
  {
   "cell_type": "code",
   "execution_count": 47,
   "id": "eb066f8f",
   "metadata": {},
   "outputs": [],
   "source": [
    "# Remove duplicate entries due to running the function twice before it worked!\n",
    "news_title.remove('My Culture, My Voice')\n",
    "news_p.remove('In honor of Hispanic Heritage Month, Christina Hernandez, an instrument engineer on the Mars 2020 mission, talks about her childhood and journey to NASA.')"
   ]
  },
  {
   "cell_type": "code",
   "execution_count": 48,
   "id": "6ee51075",
   "metadata": {},
   "outputs": [
    {
     "name": "stdout",
     "output_type": "stream",
     "text": [
      "['My Culture, My Voice', \"Follow NASA's Perseverance Rover in Real Time on Its Way to Mars\", \"Deadline Closing for Names to Fly on NASA's Next Mars Rover\", 'MOXIE Could Help Future Rockets Launch Off Mars', \"Mars InSight Lander to Push on Top of the 'Mole'\", \"NASA's Curiosity Rover Finds an Ancient Oasis on Mars\", 'New Selfie Shows Curiosity, the Mars Chemist', \"NASA's Perseverance Rover Attached to Atlas V Rocket\", 'NASA, ULA Launch Mars 2020 Perseverance Rover Mission to Red Planet', 'NASA Adds Return Sample Scientists to Mars 2020 Leadership Team', \"NASA's Mars Helicopter Attached to Mars 2020 Rover \", \"Nine Finalists Chosen in NASA's Mars 2020 Rover Naming Contest\", \"Air Deliveries Bring NASA's Perseverance Mars Rover Closer to Launch\", \"NASA's Perseverance Rover Will Carry First Spacesuit Materials to Mars\", \"Curiosity Mars Rover's Summer Road Trip Has Begun\"] ['In honor of Hispanic Heritage Month, Christina Hernandez, an instrument engineer on the Mars 2020 mission, talks about her childhood and journey to NASA.', \"A crisply rendered web application can show you where the agency's Mars 2020 mission is right now as it makes its way to the Red Planet for a Feb. 18, 2021, landing.\", 'You have until Sept. 30 to send your names to Mars aboard the Mars 2020 rover. ', \"NASA's Perseverance rover carries a device to convert Martian air into oxygen that, if produced on a larger scale, could be used not just for breathing, but also for fuel.\", 'Engineers have a plan for pushing down on the heat probe, which has been stuck at the Martian surface for a year.', \"New evidence suggests salty, shallow ponds once dotted a Martian crater — a sign of the planet's drying climate.\", 'The NASA rover performed a special chemistry experiment at the location captured in its newest self-portrait.', 'Ready for its launch later in the month, the Mars-bound rover will touch terra firma no more.', \"The agency's Mars 2020 mission is on its way. It will land at Jezero Crater in about seven months, on Feb. 18, 2021. \", 'The leadership council for Mars 2020 science added two new members who represent the interests of scientists destined to handle and study the first samples from Red Planet.', 'The helicopter will be first aircraft to perform flight tests on another planet.', \"Nine finalists have been chosen in the essay contest for K-12 students across U.S. to name NASA's next Mars rover. Now you can help by voting for your favorite. \", \"A NASA Wallops Flight Facility cargo plane transported more than two tons of equipment — including the rover's sample collection tubes — to Florida for this summer's liftoff.\", 'In a Q&A, spacesuit designer Amy Ross explains how five samples, including a piece of helmet visor, will be tested aboard the rover, which is targeting a July 30 launch. ', 'After more than a year in the \"clay-bearing unit,\" Curiosity is making a mile-long journey around some deep sand so that it can explore higher up Mount Sharp.']\n"
     ]
    }
   ],
   "source": [
    "# Lists are complete\n",
    "print(news_title, news_p)"
   ]
  },
  {
   "cell_type": "markdown",
   "id": "2425a6c0",
   "metadata": {},
   "source": [
    "## JPL Mars Space Images - Featured Image"
   ]
  },
  {
   "cell_type": "code",
   "execution_count": 65,
   "id": "003e5886",
   "metadata": {},
   "outputs": [
    {
     "name": "stderr",
     "output_type": "stream",
     "text": [
      "\n",
      "\n",
      "====== WebDriver manager ======\n",
      "Current google-chrome version is 91.0.4472\n",
      "Get LATEST driver version for 91.0.4472\n",
      "Driver [/Users/kristajoyjohnson/.wdm/drivers/chromedriver/mac64/91.0.4472.19/chromedriver] found in cache\n"
     ]
    }
   ],
   "source": [
    "# Setup Splinter\n",
    "executable_path = {'executable_path': ChromeDriverManager().install()}\n",
    "browser = Browser('chrome', **executable_path, headless=False)"
   ]
  },
  {
   "cell_type": "code",
   "execution_count": 66,
   "id": "d2cb1972",
   "metadata": {},
   "outputs": [],
   "source": [
    "# Connect to the website\n",
    "url = 'https://spaceimages-mars.com/'\n",
    "browser.visit(url)"
   ]
  },
  {
   "cell_type": "code",
   "execution_count": 67,
   "id": "0a70d2e1",
   "metadata": {},
   "outputs": [],
   "source": [
    "# Use BeautifulSoup to parse html\n",
    "html = browser.html\n",
    "soup = BeautifulSoup(html, 'html.parser')"
   ]
  },
  {
   "cell_type": "code",
   "execution_count": 73,
   "id": "102b70ee",
   "metadata": {},
   "outputs": [],
   "source": [
    "for x in range(1):\n",
    "\n",
    "    html = browser.html\n",
    "    soup = BeautifulSoup(html, 'html.parser')\n",
    "\n",
    "    header = soup.find('div', class_='header')\n",
    "    target = header.find('a', class_='fancybox-thumbs')\n",
    "    href = target['href']\n",
    "    featured_image_url = ('https://spaceimages-mars.com/' + href)"
   ]
  },
  {
   "cell_type": "code",
   "execution_count": 76,
   "id": "c7cf5c3c",
   "metadata": {},
   "outputs": [
    {
     "name": "stdout",
     "output_type": "stream",
     "text": [
      "https://spaceimages-mars.com/image/featured/mars2.jpg\n"
     ]
    }
   ],
   "source": [
    "print(featured_image_url)"
   ]
  },
  {
   "cell_type": "code",
   "execution_count": 75,
   "id": "e1358812",
   "metadata": {},
   "outputs": [],
   "source": [
    "# Disconnect from website\n",
    "browser.quit()"
   ]
  },
  {
   "cell_type": "code",
   "execution_count": null,
   "id": "f3f276cd",
   "metadata": {},
   "outputs": [],
   "source": []
  }
 ],
 "metadata": {
  "kernelspec": {
   "display_name": "Python [conda env:TestEnv] *",
   "language": "python",
   "name": "conda-env-TestEnv-py"
  },
  "language_info": {
   "codemirror_mode": {
    "name": "ipython",
    "version": 3
   },
   "file_extension": ".py",
   "mimetype": "text/x-python",
   "name": "python",
   "nbconvert_exporter": "python",
   "pygments_lexer": "ipython3",
   "version": "3.6.10"
  }
 },
 "nbformat": 4,
 "nbformat_minor": 5
}
